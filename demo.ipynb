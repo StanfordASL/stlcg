{
 "cells": [
  {
   "cell_type": "code",
   "execution_count": 1,
   "metadata": {},
   "outputs": [],
   "source": [
    "%matplotlib inline\n",
    "import sys\n",
    "sys.path.insert(0, 'src')"
   ]
  },
  {
   "cell_type": "code",
   "execution_count": 2,
   "metadata": {},
   "outputs": [],
   "source": [
    "import stlcg\n",
    "import stlcg.stlviz as viz\n",
    "from stlcg import Expression\n",
    "from stlcg.utils import print_learning_progress"
   ]
  },
  {
   "cell_type": "code",
   "execution_count": 3,
   "metadata": {},
   "outputs": [],
   "source": [
    "import torch\n",
    "import numpy as np\n",
    "import matplotlib.pyplot as plt\n",
    "import importlib"
   ]
  },
  {
   "cell_type": "markdown",
   "metadata": {},
   "source": [
    "## Create traces from numpy arrays"
   ]
  },
  {
   "cell_type": "code",
   "execution_count": 4,
   "metadata": {},
   "outputs": [],
   "source": [
    "t = t = np.arange(-3, 3, 0.2, dtype=np.float32)\n",
    "x_np = 0.5 * np.exp(-t**2).reshape([1, t.shape[0], 1])\n",
    "w_np = (0.4*np.exp(-(t + 0.5)**2) + 0.2*np.exp(-(t - 3)**2)).reshape([1, t.shape[0], 1])\n",
    "\n",
    "x = torch.tensor(x_np, requires_grad=False)\n",
    "w = torch.tensor(w_np, requires_grad=False)\n",
    "c = torch.tensor(1.0, dtype=torch.float, requires_grad=True)\n",
    "d = torch.tensor(0.9, dtype=torch.float, requires_grad=True)"
   ]
  },
  {
   "cell_type": "code",
   "execution_count": 5,
   "metadata": {},
   "outputs": [
    {
     "data": {
      "text/plain": [
       "Text(0.5, 1.0, 'Traces')"
      ]
     },
     "execution_count": 5,
     "metadata": {},
     "output_type": "execute_result"
    },
    {
     "data": {
      "image/png": "[encoded data removed]",
      "text/plain": [
       "<Figure size 576x360 with 1 Axes>"
      ]
     },
     "metadata": {
      "needs_background": "light"
     },
     "output_type": "display_data"
    }
   ],
   "source": [
    "plt.figure(figsize=(8, 5))\n",
    "plt.plot(t, x_np[0,:,0], \".-\", linewidth=3, markersize=15, label=\"x\")\n",
    "plt.plot(t, w_np[0,:,0], \".-\", linewidth=3, markersize=15, label=\"w\")\n",
    "plt.legend(fontsize=16)\n",
    "plt.title(\"Traces\", fontsize=16)"
   ]
  },
  {
   "cell_type": "markdown",
   "metadata": {},
   "source": [
    "# Constructing STL formulas"
   ]
  },
  {
   "cell_type": "markdown",
   "metadata": {},
   "source": [
    "### One way to construct formulas is to explicitly call the constructors"
   ]
  },
  {
   "cell_type": "code",
   "execution_count": 6,
   "metadata": {},
   "outputs": [
    {
     "name": "stdout",
     "output_type": "stream",
     "text": [
      "(◻ [0, inf]( x <= 1.0 )) ∧ (◻ [0, inf]( w <= 0.9 ))\n"
     ]
    },
    {
     "data": {
      "image/svg+xml": [
       "<?xml version=\"1.0\" encoding=\"UTF-8\" standalone=\"no\"?>\n",
       "<!DOCTYPE svg PUBLIC \"-//W3C//DTD SVG 1.1//EN\"\n",
       " \"http://www.w3.org/Graphics/SVG/1.1/DTD/svg11.dtd\">\n",
       "<!-- Generated by graphviz version 2.38.0 (20140413.2041)\n",
       " -->\n",
       "<!-- Title: %3 Pages: 1 -->\n",
       "<svg width=\"310pt\" height=\"239pt\"\n",
       " viewBox=\"0.00 0.00 310.00 239.00\" xmlns=\"http://www.w3.org/2000/svg\" xmlns:xlink=\"http://www.w3.org/1999/xlink\">\n",
       "<g id=\"graph0\" class=\"graph\" transform=\"scale(1 1) rotate(0) translate(4 235)\">\n",
       "<title>%3</title>\n",
       "<polygon fill=\"white\" stroke=\"none\" points=\"-4,4 -4,-235 306,-235 306,4 -4,4\"/>\n",
       "<!-- 139955138903624 -->\n",
       "<g id=\"node1\" class=\"node\"><title>139955138903624</title>\n",
       "<polygon fill=\"orange\" stroke=\"black\" points=\"276,-34 26,-34 26,-0 276,-0 276,-34\"/>\n",
       "<text text-anchor=\"middle\" x=\"151\" y=\"-20.4\" font-family=\"Times,serif\" font-size=\"12.00\">And</text>\n",
       "<text text-anchor=\"middle\" x=\"151\" y=\"-7.4\" font-family=\"Times,serif\" font-size=\"12.00\">(◻ [0, inf]( x &lt;= 1.0 )) ∧ (◻ [0, inf]( w &lt;= 0.9 ))</text>\n",
       "</g>\n",
       "<!-- 139952677203192 -->\n",
       "<g id=\"node2\" class=\"node\"><title>139952677203192</title>\n",
       "<polygon fill=\"orange\" stroke=\"black\" points=\"141,-104 25,-104 25,-70 141,-70 141,-104\"/>\n",
       "<text text-anchor=\"middle\" x=\"83\" y=\"-90.4\" font-family=\"Times,serif\" font-size=\"12.00\">Always</text>\n",
       "<text text-anchor=\"middle\" x=\"83\" y=\"-77.4\" font-family=\"Times,serif\" font-size=\"12.00\">◻ [0, inf]( x &lt;= 1.0 )</text>\n",
       "</g>\n",
       "<!-- 139952677203192&#45;&gt;139955138903624 -->\n",
       "<g id=\"edge1\" class=\"edge\"><title>139952677203192&#45;&gt;139955138903624</title>\n",
       "<path fill=\"none\" stroke=\"black\" d=\"M99.1151,-69.8849C107.544,-61.4557 118.024,-50.9761 127.354,-41.6464\"/>\n",
       "<polygon fill=\"black\" stroke=\"black\" points=\"129.932,-44.0177 134.528,-34.4717 124.982,-39.068 129.932,-44.0177\"/>\n",
       "</g>\n",
       "<!-- 139952677203248 -->\n",
       "<g id=\"node3\" class=\"node\"><title>139952677203248</title>\n",
       "<polygon fill=\"orange\" stroke=\"black\" points=\"114.5,-174 51.5,-174 51.5,-140 114.5,-140 114.5,-174\"/>\n",
       "<text text-anchor=\"middle\" x=\"83\" y=\"-160.4\" font-family=\"Times,serif\" font-size=\"12.00\">LessThan</text>\n",
       "<text text-anchor=\"middle\" x=\"83\" y=\"-147.4\" font-family=\"Times,serif\" font-size=\"12.00\">x &lt;= 1.0</text>\n",
       "</g>\n",
       "<!-- 139952677203248&#45;&gt;139952677203192 -->\n",
       "<g id=\"edge2\" class=\"edge\"><title>139952677203248&#45;&gt;139952677203192</title>\n",
       "<path fill=\"none\" stroke=\"black\" d=\"M83,-139.885C83,-132.374 83,-123.234 83,-114.731\"/>\n",
       "<polygon fill=\"black\" stroke=\"black\" points=\"86.5001,-114.472 83,-104.472 79.5001,-114.472 86.5001,-114.472\"/>\n",
       "</g>\n",
       "<!-- 139955309922712 -->\n",
       "<g id=\"node4\" class=\"node\"><title>139955309922712</title>\n",
       "<polygon fill=\"lightskyblue\" stroke=\"black\" points=\"54,-231 0,-231 0,-210 54,-210 54,-231\"/>\n",
       "<text text-anchor=\"middle\" x=\"27\" y=\"-217.4\" font-family=\"Times,serif\" font-size=\"12.00\">x</text>\n",
       "</g>\n",
       "<!-- 139955309922712&#45;&gt;139952677203248 -->\n",
       "<g id=\"edge3\" class=\"edge\"><title>139955309922712&#45;&gt;139952677203248</title>\n",
       "<path fill=\"none\" stroke=\"black\" d=\"M35.75,-209.891C42.5464,-202.427 52.2756,-191.742 61.1409,-182.006\"/>\n",
       "<polygon fill=\"black\" stroke=\"black\" points=\"63.8482,-184.231 67.993,-174.481 58.6724,-179.518 63.8482,-184.231\"/>\n",
       "</g>\n",
       "<!-- 139952711194592 -->\n",
       "<g id=\"node5\" class=\"node\"><title>139952711194592</title>\n",
       "<polygon fill=\"palegreen\" stroke=\"black\" points=\"126,-231 72,-231 72,-210 126,-210 126,-231\"/>\n",
       "<text text-anchor=\"middle\" x=\"99\" y=\"-217.4\" font-family=\"Times,serif\" font-size=\"12.00\">1.0</text>\n",
       "</g>\n",
       "<!-- 139952711194592&#45;&gt;139952677203248 -->\n",
       "<g id=\"edge4\" class=\"edge\"><title>139952711194592&#45;&gt;139952677203248</title>\n",
       "<path fill=\"none\" stroke=\"black\" d=\"M96.5,-209.891C94.712,-203.018 92.2135,-193.414 89.8514,-184.335\"/>\n",
       "<polygon fill=\"black\" stroke=\"black\" points=\"93.1928,-183.277 87.2877,-174.481 86.4183,-185.04 93.1928,-183.277\"/>\n",
       "</g>\n",
       "<!-- 139952677203080 -->\n",
       "<g id=\"node6\" class=\"node\"><title>139952677203080</title>\n",
       "<polygon fill=\"orange\" stroke=\"black\" points=\"278.5,-104 159.5,-104 159.5,-70 278.5,-70 278.5,-104\"/>\n",
       "<text text-anchor=\"middle\" x=\"219\" y=\"-90.4\" font-family=\"Times,serif\" font-size=\"12.00\">Always</text>\n",
       "<text text-anchor=\"middle\" x=\"219\" y=\"-77.4\" font-family=\"Times,serif\" font-size=\"12.00\">◻ [0, inf]( w &lt;= 0.9 )</text>\n",
       "</g>\n",
       "<!-- 139952677203080&#45;&gt;139955138903624 -->\n",
       "<g id=\"edge5\" class=\"edge\"><title>139952677203080&#45;&gt;139955138903624</title>\n",
       "<path fill=\"none\" stroke=\"black\" d=\"M202.885,-69.8849C194.456,-61.4557 183.976,-50.9761 174.646,-41.6464\"/>\n",
       "<polygon fill=\"black\" stroke=\"black\" points=\"177.018,-39.068 167.472,-34.4717 172.068,-44.0177 177.018,-39.068\"/>\n",
       "</g>\n",
       "<!-- 139952677203416 -->\n",
       "<g id=\"node7\" class=\"node\"><title>139952677203416</title>\n",
       "<polygon fill=\"orange\" stroke=\"black\" points=\"250.5,-174 187.5,-174 187.5,-140 250.5,-140 250.5,-174\"/>\n",
       "<text text-anchor=\"middle\" x=\"219\" y=\"-160.4\" font-family=\"Times,serif\" font-size=\"12.00\">LessThan</text>\n",
       "<text text-anchor=\"middle\" x=\"219\" y=\"-147.4\" font-family=\"Times,serif\" font-size=\"12.00\">w &lt;= 0.9</text>\n",
       "</g>\n",
       "<!-- 139952677203416&#45;&gt;139952677203080 -->\n",
       "<g id=\"edge6\" class=\"edge\"><title>139952677203416&#45;&gt;139952677203080</title>\n",
       "<path fill=\"none\" stroke=\"black\" d=\"M219,-139.885C219,-132.374 219,-123.234 219,-114.731\"/>\n",
       "<polygon fill=\"black\" stroke=\"black\" points=\"222.5,-114.472 219,-104.472 215.5,-114.472 222.5,-114.472\"/>\n",
       "</g>\n",
       "<!-- 139955309411888 -->\n",
       "<g id=\"node8\" class=\"node\"><title>139955309411888</title>\n",
       "<polygon fill=\"lightskyblue\" stroke=\"black\" points=\"230,-231 176,-231 176,-210 230,-210 230,-231\"/>\n",
       "<text text-anchor=\"middle\" x=\"203\" y=\"-217.4\" font-family=\"Times,serif\" font-size=\"12.00\">w</text>\n",
       "</g>\n",
       "<!-- 139955309411888&#45;&gt;139952677203416 -->\n",
       "<g id=\"edge7\" class=\"edge\"><title>139955309411888&#45;&gt;139952677203416</title>\n",
       "<path fill=\"none\" stroke=\"black\" d=\"M205.5,-209.891C207.288,-203.018 209.787,-193.414 212.149,-184.335\"/>\n",
       "<polygon fill=\"black\" stroke=\"black\" points=\"215.582,-185.04 214.712,-174.481 208.807,-183.277 215.582,-185.04\"/>\n",
       "</g>\n",
       "<!-- 139952711194664 -->\n",
       "<g id=\"node9\" class=\"node\"><title>139952711194664</title>\n",
       "<polygon fill=\"palegreen\" stroke=\"black\" points=\"302,-231 248,-231 248,-210 302,-210 302,-231\"/>\n",
       "<text text-anchor=\"middle\" x=\"275\" y=\"-217.4\" font-family=\"Times,serif\" font-size=\"12.00\">0.9</text>\n",
       "</g>\n",
       "<!-- 139952711194664&#45;&gt;139952677203416 -->\n",
       "<g id=\"edge8\" class=\"edge\"><title>139952711194664&#45;&gt;139952677203416</title>\n",
       "<path fill=\"none\" stroke=\"black\" d=\"M266.25,-209.891C259.454,-202.427 249.724,-191.742 240.859,-182.006\"/>\n",
       "<polygon fill=\"black\" stroke=\"black\" points=\"243.328,-179.518 234.007,-174.481 238.152,-184.231 243.328,-179.518\"/>\n",
       "</g>\n",
       "</g>\n",
       "</svg>\n"
      ],
      "text/plain": [
       "<graphviz.dot.Digraph at 0x7f49459c2b00>"
      ]
     },
     "execution_count": 6,
     "metadata": {},
     "output_type": "execute_result"
    }
   ],
   "source": [
    "ϕ1 = stlcg.LessThan(lhs='x', val=c)\n",
    "ϕ2 = stlcg.GreaterThan(lhs='w', val=d)\n",
    "ϕ3 = stlcg.LessThan(lhs='w', val=d)\n",
    "ϕ = stlcg.Always(subformula=ϕ1)\n",
    "ψ = stlcg.Always(subformula=ϕ3)\n",
    "formula = stlcg.And(subformula1=ϕ, subformula2=ψ)\n",
    "print(formula)\n",
    "viz.make_stl_graph(formula)"
   ]
  },
  {
   "cell_type": "markdown",
   "metadata": {},
   "source": [
    "### Another way (preferred way) is to use the math operators which have been overloaded\n",
    "#### (less than, greater than, equal, not, and, or)\n",
    "#### Still need to use the Always and Or constructors explicitly"
   ]
  },
  {
   "cell_type": "code",
   "execution_count": 7,
   "metadata": {},
   "outputs": [],
   "source": [
    "x_exp = Expression('x', x)    # The first argument is the name of the variable, the second argument is the numerical value\n",
    "w_exp = Expression('w', w)\n",
    "c_exp = Expression('c', c)         # If the variable is a parameter of the STL, then input the actual value\n",
    "d_exp = Expression('d', d)"
   ]
  },
  {
   "cell_type": "code",
   "execution_count": 8,
   "metadata": {},
   "outputs": [
    {
     "name": "stdout",
     "output_type": "stream",
     "text": [
      "(◻ [0, inf]( x <= c )) ∧ (◻ [0, inf]( w <= d ))\n"
     ]
    },
    {
     "data": {
      "image/svg+xml": [
       "<?xml version=\"1.0\" encoding=\"UTF-8\" standalone=\"no\"?>\n",
       "<!DOCTYPE svg PUBLIC \"-//W3C//DTD SVG 1.1//EN\"\n",
       " \"http://www.w3.org/Graphics/SVG/1.1/DTD/svg11.dtd\">\n",
       "<!-- Generated by graphviz version 2.38.0 (20140413.2041)\n",
       " -->\n",
       "<!-- Title: %3 Pages: 1 -->\n",
       "<svg width=\"305pt\" height=\"239pt\"\n",
       " viewBox=\"0.00 0.00 305.00 239.00\" xmlns=\"http://www.w3.org/2000/svg\" xmlns:xlink=\"http://www.w3.org/1999/xlink\">\n",
       "<g id=\"graph0\" class=\"graph\" transform=\"scale(1 1) rotate(0) translate(4 235)\">\n",
       "<title>%3</title>\n",
       "<polygon fill=\"white\" stroke=\"none\" points=\"-4,4 -4,-235 301,-235 301,4 -4,4\"/>\n",
       "<!-- 139955138903568 -->\n",
       "<g id=\"node1\" class=\"node\"><title>139955138903568</title>\n",
       "<polygon fill=\"orange\" stroke=\"black\" points=\"263.5,-34 32.5,-34 32.5,-0 263.5,-0 263.5,-34\"/>\n",
       "<text text-anchor=\"middle\" x=\"148\" y=\"-20.4\" font-family=\"Times,serif\" font-size=\"12.00\">And</text>\n",
       "<text text-anchor=\"middle\" x=\"148\" y=\"-7.4\" font-family=\"Times,serif\" font-size=\"12.00\">(◻ [0, inf]( x &lt;= c )) ∧ (◻ [0, inf]( w &lt;= d ))</text>\n",
       "</g>\n",
       "<!-- 139952677203304 -->\n",
       "<g id=\"node2\" class=\"node\"><title>139952677203304</title>\n",
       "<polygon fill=\"orange\" stroke=\"black\" points=\"138.5,-104 31.5,-104 31.5,-70 138.5,-70 138.5,-104\"/>\n",
       "<text text-anchor=\"middle\" x=\"85\" y=\"-90.4\" font-family=\"Times,serif\" font-size=\"12.00\">Always</text>\n",
       "<text text-anchor=\"middle\" x=\"85\" y=\"-77.4\" font-family=\"Times,serif\" font-size=\"12.00\">◻ [0, inf]( x &lt;= c )</text>\n",
       "</g>\n",
       "<!-- 139952677203304&#45;&gt;139955138903568 -->\n",
       "<g id=\"edge1\" class=\"edge\"><title>139952677203304&#45;&gt;139955138903568</title>\n",
       "<path fill=\"none\" stroke=\"black\" d=\"M99.9301,-69.8849C107.662,-61.5391 117.257,-51.1834 125.835,-41.9238\"/>\n",
       "<polygon fill=\"black\" stroke=\"black\" points=\"128.511,-44.1861 132.739,-34.4717 123.376,-39.4287 128.511,-44.1861\"/>\n",
       "</g>\n",
       "<!-- 139952677203136 -->\n",
       "<g id=\"node3\" class=\"node\"><title>139952677203136</title>\n",
       "<polygon fill=\"orange\" stroke=\"black\" points=\"116.5,-174 53.5,-174 53.5,-140 116.5,-140 116.5,-174\"/>\n",
       "<text text-anchor=\"middle\" x=\"85\" y=\"-160.4\" font-family=\"Times,serif\" font-size=\"12.00\">LessThan</text>\n",
       "<text text-anchor=\"middle\" x=\"85\" y=\"-147.4\" font-family=\"Times,serif\" font-size=\"12.00\">x &lt;= c</text>\n",
       "</g>\n",
       "<!-- 139952677203136&#45;&gt;139952677203304 -->\n",
       "<g id=\"edge2\" class=\"edge\"><title>139952677203136&#45;&gt;139952677203304</title>\n",
       "<path fill=\"none\" stroke=\"black\" d=\"M85,-139.885C85,-132.374 85,-123.234 85,-114.731\"/>\n",
       "<polygon fill=\"black\" stroke=\"black\" points=\"88.5001,-114.472 85,-104.472 81.5001,-114.472 88.5001,-114.472\"/>\n",
       "</g>\n",
       "<!-- 139952677306320 -->\n",
       "<g id=\"node4\" class=\"node\"><title>139952677306320</title>\n",
       "<polygon fill=\"lightskyblue\" stroke=\"black\" points=\"54,-231 0,-231 0,-210 54,-210 54,-231\"/>\n",
       "<text text-anchor=\"middle\" x=\"27\" y=\"-217.4\" font-family=\"Times,serif\" font-size=\"12.00\">x</text>\n",
       "</g>\n",
       "<!-- 139952677306320&#45;&gt;139952677203136 -->\n",
       "<g id=\"edge3\" class=\"edge\"><title>139952677306320&#45;&gt;139952677203136</title>\n",
       "<path fill=\"none\" stroke=\"black\" d=\"M36.0625,-209.891C43.1016,-202.427 53.1783,-191.742 62.3603,-182.006\"/>\n",
       "<polygon fill=\"black\" stroke=\"black\" points=\"65.1423,-184.157 69.4571,-174.481 60.0497,-179.355 65.1423,-184.157\"/>\n",
       "</g>\n",
       "<!-- 139952677304248 -->\n",
       "<g id=\"node5\" class=\"node\"><title>139952677304248</title>\n",
       "<polygon fill=\"palegreen\" stroke=\"black\" points=\"126,-231 72,-231 72,-210 126,-210 126,-231\"/>\n",
       "<text text-anchor=\"middle\" x=\"99\" y=\"-217.4\" font-family=\"Times,serif\" font-size=\"12.00\">c</text>\n",
       "</g>\n",
       "<!-- 139952677304248&#45;&gt;139952677203136 -->\n",
       "<g id=\"edge4\" class=\"edge\"><title>139952677304248&#45;&gt;139952677203136</title>\n",
       "<path fill=\"none\" stroke=\"black\" d=\"M96.8125,-209.891C95.248,-203.018 93.0618,-193.414 90.995,-184.335\"/>\n",
       "<polygon fill=\"black\" stroke=\"black\" points=\"94.3842,-183.455 88.7517,-174.481 87.5588,-185.008 94.3842,-183.455\"/>\n",
       "</g>\n",
       "<!-- 139955138902784 -->\n",
       "<g id=\"node6\" class=\"node\"><title>139955138902784</title>\n",
       "<polygon fill=\"orange\" stroke=\"black\" points=\"267,-104 157,-104 157,-70 267,-70 267,-104\"/>\n",
       "<text text-anchor=\"middle\" x=\"212\" y=\"-90.4\" font-family=\"Times,serif\" font-size=\"12.00\">Always</text>\n",
       "<text text-anchor=\"middle\" x=\"212\" y=\"-77.4\" font-family=\"Times,serif\" font-size=\"12.00\">◻ [0, inf]( w &lt;= d )</text>\n",
       "</g>\n",
       "<!-- 139955138902784&#45;&gt;139955138903568 -->\n",
       "<g id=\"edge5\" class=\"edge\"><title>139955138902784&#45;&gt;139955138903568</title>\n",
       "<path fill=\"none\" stroke=\"black\" d=\"M196.833,-69.8849C188.978,-61.5391 179.231,-51.1834 170.517,-41.9238\"/>\n",
       "<polygon fill=\"black\" stroke=\"black\" points=\"172.905,-39.355 163.503,-34.4717 167.808,-44.1526 172.905,-39.355\"/>\n",
       "</g>\n",
       "<!-- 139955138902448 -->\n",
       "<g id=\"node7\" class=\"node\"><title>139955138902448</title>\n",
       "<polygon fill=\"orange\" stroke=\"black\" points=\"243.5,-174 180.5,-174 180.5,-140 243.5,-140 243.5,-174\"/>\n",
       "<text text-anchor=\"middle\" x=\"212\" y=\"-160.4\" font-family=\"Times,serif\" font-size=\"12.00\">LessThan</text>\n",
       "<text text-anchor=\"middle\" x=\"212\" y=\"-147.4\" font-family=\"Times,serif\" font-size=\"12.00\">w &lt;= d</text>\n",
       "</g>\n",
       "<!-- 139955138902448&#45;&gt;139955138902784 -->\n",
       "<g id=\"edge6\" class=\"edge\"><title>139955138902448&#45;&gt;139955138902784</title>\n",
       "<path fill=\"none\" stroke=\"black\" d=\"M212,-139.885C212,-132.374 212,-123.234 212,-114.731\"/>\n",
       "<polygon fill=\"black\" stroke=\"black\" points=\"215.5,-114.472 212,-104.472 208.5,-114.472 215.5,-114.472\"/>\n",
       "</g>\n",
       "<!-- 139952677304360 -->\n",
       "<g id=\"node8\" class=\"node\"><title>139952677304360</title>\n",
       "<polygon fill=\"lightskyblue\" stroke=\"black\" points=\"225,-231 171,-231 171,-210 225,-210 225,-231\"/>\n",
       "<text text-anchor=\"middle\" x=\"198\" y=\"-217.4\" font-family=\"Times,serif\" font-size=\"12.00\">w</text>\n",
       "</g>\n",
       "<!-- 139952677304360&#45;&gt;139955138902448 -->\n",
       "<g id=\"edge7\" class=\"edge\"><title>139952677304360&#45;&gt;139955138902448</title>\n",
       "<path fill=\"none\" stroke=\"black\" d=\"M200.188,-209.891C201.752,-203.018 203.938,-193.414 206.005,-184.335\"/>\n",
       "<polygon fill=\"black\" stroke=\"black\" points=\"209.441,-185.008 208.248,-174.481 202.616,-183.455 209.441,-185.008\"/>\n",
       "</g>\n",
       "<!-- 139952677302960 -->\n",
       "<g id=\"node9\" class=\"node\"><title>139952677302960</title>\n",
       "<polygon fill=\"palegreen\" stroke=\"black\" points=\"297,-231 243,-231 243,-210 297,-210 297,-231\"/>\n",
       "<text text-anchor=\"middle\" x=\"270\" y=\"-217.4\" font-family=\"Times,serif\" font-size=\"12.00\">d</text>\n",
       "</g>\n",
       "<!-- 139952677302960&#45;&gt;139955138902448 -->\n",
       "<g id=\"edge8\" class=\"edge\"><title>139952677302960&#45;&gt;139955138902448</title>\n",
       "<path fill=\"none\" stroke=\"black\" d=\"M260.938,-209.891C253.898,-202.427 243.822,-191.742 234.64,-182.006\"/>\n",
       "<polygon fill=\"black\" stroke=\"black\" points=\"236.95,-179.355 227.543,-174.481 231.858,-184.157 236.95,-179.355\"/>\n",
       "</g>\n",
       "</g>\n",
       "</svg>\n"
      ],
      "text/plain": [
       "<graphviz.dot.Digraph at 0x7f49459db5c0>"
      ]
     },
     "execution_count": 8,
     "metadata": {},
     "output_type": "execute_result"
    }
   ],
   "source": [
    "ϕ1 = x_exp <= c_exp\n",
    "ϕ2 = w_exp >= d_exp \n",
    "ϕ3 = w_exp <= d_exp\n",
    "ϕ = stlcg.Always(subformula=ϕ1)\n",
    "ψ = stlcg.Always(subformula=ϕ3)\n",
    "formula = stlcg.And(subformula1=ϕ, subformula2=ψ)\n",
    "print(formula)\n",
    "viz.make_stl_graph(formula)"
   ]
  },
  {
   "cell_type": "markdown",
   "metadata": {},
   "source": [
    "## Evaluating the formula\n",
    "### You need to feed in the necessary inputs. If the formula requires multiple inputs, it takes in a tuple of length 2 where each element in the tuple is the input to each subformula, in the order they are created. If the formula requires more than two inputs, then the tuple contains a tuple, eg. (x, (y, z)). The grouping of the input traces depend on how the formula was created.\n",
    "\n",
    "#### the inputs can be made up of tensors, or Expression objects."
   ]
  },
  {
   "cell_type": "code",
   "execution_count": 9,
   "metadata": {},
   "outputs": [
    {
     "name": "stdout",
     "output_type": "stream",
     "text": [
      "(w >= d) ∧ ((◻ [0, inf]( x <= c )) ∧ (◻ [0, inf]( w <= d )))\n"
     ]
    },
    {
     "data": {
      "image/svg+xml": [
       "<?xml version=\"1.0\" encoding=\"UTF-8\" standalone=\"no\"?>\n",
       "<!DOCTYPE svg PUBLIC \"-//W3C//DTD SVG 1.1//EN\"\n",
       " \"http://www.w3.org/Graphics/SVG/1.1/DTD/svg11.dtd\">\n",
       "<!-- Generated by graphviz version 2.38.0 (20140413.2041)\n",
       " -->\n",
       "<!-- Title: %3 Pages: 1 -->\n",
       "<svg width=\"374pt\" height=\"309pt\"\n",
       " viewBox=\"0.00 0.00 374.00 309.00\" xmlns=\"http://www.w3.org/2000/svg\" xmlns:xlink=\"http://www.w3.org/1999/xlink\">\n",
       "<g id=\"graph0\" class=\"graph\" transform=\"scale(1 1) rotate(0) translate(4 305)\">\n",
       "<title>%3</title>\n",
       "<polygon fill=\"white\" stroke=\"none\" points=\"-4,4 -4,-305 370,-305 370,4 -4,4\"/>\n",
       "<!-- 139952677303688 -->\n",
       "<g id=\"node1\" class=\"node\"><title>139952677303688</title>\n",
       "<polygon fill=\"orange\" stroke=\"black\" points=\"296,-34 0,-34 0,-0 296,-0 296,-34\"/>\n",
       "<text text-anchor=\"middle\" x=\"148\" y=\"-20.4\" font-family=\"Times,serif\" font-size=\"12.00\">And</text>\n",
       "<text text-anchor=\"middle\" x=\"148\" y=\"-7.4\" font-family=\"Times,serif\" font-size=\"12.00\">(w &gt;= d) ∧ ((◻ [0, inf]( x &lt;= c )) ∧ (◻ [0, inf]( w &lt;= d )))</text>\n",
       "</g>\n",
       "<!-- 139952677203360 -->\n",
       "<g id=\"node2\" class=\"node\"><title>139952677203360</title>\n",
       "<polygon fill=\"orange\" stroke=\"black\" points=\"114.5,-244 37.5,-244 37.5,-210 114.5,-210 114.5,-244\"/>\n",
       "<text text-anchor=\"middle\" x=\"76\" y=\"-230.4\" font-family=\"Times,serif\" font-size=\"12.00\">GreaterThan</text>\n",
       "<text text-anchor=\"middle\" x=\"76\" y=\"-217.4\" font-family=\"Times,serif\" font-size=\"12.00\">w &gt;= d</text>\n",
       "</g>\n",
       "<!-- 139952677203360&#45;&gt;139952677303688 -->\n",
       "<g id=\"edge1\" class=\"edge\"><title>139952677203360&#45;&gt;139952677303688</title>\n",
       "<path fill=\"none\" stroke=\"black\" d=\"M74.5958,-209.976C72.7214,-180.573 71.9559,-116.739 95,-70 100.423,-59.001 109.134,-48.9958 117.942,-40.7646\"/>\n",
       "<polygon fill=\"black\" stroke=\"black\" points=\"120.427,-43.2395 125.625,-34.0075 115.805,-37.9829 120.427,-43.2395\"/>\n",
       "</g>\n",
       "<!-- 139952677304360 -->\n",
       "<g id=\"node3\" class=\"node\"><title>139952677304360</title>\n",
       "<polygon fill=\"lightskyblue\" stroke=\"black\" points=\"107,-301 53,-301 53,-280 107,-280 107,-301\"/>\n",
       "<text text-anchor=\"middle\" x=\"80\" y=\"-287.4\" font-family=\"Times,serif\" font-size=\"12.00\">w</text>\n",
       "</g>\n",
       "<!-- 139952677304360&#45;&gt;139952677203360 -->\n",
       "<g id=\"edge2\" class=\"edge\"><title>139952677304360&#45;&gt;139952677203360</title>\n",
       "<path fill=\"none\" stroke=\"black\" d=\"M79.375,-279.891C78.9328,-273.092 78.3168,-263.621 77.7319,-254.628\"/>\n",
       "<polygon fill=\"black\" stroke=\"black\" points=\"81.2137,-254.233 77.0719,-244.481 74.2284,-254.687 81.2137,-254.233\"/>\n",
       "</g>\n",
       "<!-- 139955138902448 -->\n",
       "<g id=\"node11\" class=\"node\"><title>139955138902448</title>\n",
       "<polygon fill=\"orange\" stroke=\"black\" points=\"195.5,-244 132.5,-244 132.5,-210 195.5,-210 195.5,-244\"/>\n",
       "<text text-anchor=\"middle\" x=\"164\" y=\"-230.4\" font-family=\"Times,serif\" font-size=\"12.00\">LessThan</text>\n",
       "<text text-anchor=\"middle\" x=\"164\" y=\"-217.4\" font-family=\"Times,serif\" font-size=\"12.00\">w &lt;= d</text>\n",
       "</g>\n",
       "<!-- 139952677304360&#45;&gt;139955138902448 -->\n",
       "<g id=\"edge11\" class=\"edge\"><title>139952677304360&#45;&gt;139955138902448</title>\n",
       "<path fill=\"none\" stroke=\"black\" d=\"M93.125,-279.891C103.901,-272.001 119.591,-260.513 133.472,-250.351\"/>\n",
       "<polygon fill=\"black\" stroke=\"black\" points=\"135.819,-252.97 141.82,-244.239 131.684,-247.322 135.819,-252.97\"/>\n",
       "</g>\n",
       "<!-- 139952677302960 -->\n",
       "<g id=\"node4\" class=\"node\"><title>139952677302960</title>\n",
       "<polygon fill=\"palegreen\" stroke=\"black\" points=\"187,-301 133,-301 133,-280 187,-280 187,-301\"/>\n",
       "<text text-anchor=\"middle\" x=\"160\" y=\"-287.4\" font-family=\"Times,serif\" font-size=\"12.00\">d</text>\n",
       "</g>\n",
       "<!-- 139952677302960&#45;&gt;139952677203360 -->\n",
       "<g id=\"edge3\" class=\"edge\"><title>139952677302960&#45;&gt;139952677203360</title>\n",
       "<path fill=\"none\" stroke=\"black\" d=\"M146.875,-279.891C136.099,-272.001 120.409,-260.513 106.528,-250.351\"/>\n",
       "<polygon fill=\"black\" stroke=\"black\" points=\"108.316,-247.322 98.1799,-244.239 104.181,-252.97 108.316,-247.322\"/>\n",
       "</g>\n",
       "<!-- 139952677302960&#45;&gt;139955138902448 -->\n",
       "<g id=\"edge12\" class=\"edge\"><title>139952677302960&#45;&gt;139955138902448</title>\n",
       "<path fill=\"none\" stroke=\"black\" d=\"M160.625,-279.891C161.067,-273.092 161.683,-263.621 162.268,-254.628\"/>\n",
       "<polygon fill=\"black\" stroke=\"black\" points=\"165.772,-254.687 162.928,-244.481 158.786,-254.233 165.772,-254.687\"/>\n",
       "</g>\n",
       "<!-- 139955138903568 -->\n",
       "<g id=\"node5\" class=\"node\"><title>139955138903568</title>\n",
       "<polygon fill=\"orange\" stroke=\"black\" points=\"335.5,-104 104.5,-104 104.5,-70 335.5,-70 335.5,-104\"/>\n",
       "<text text-anchor=\"middle\" x=\"220\" y=\"-90.4\" font-family=\"Times,serif\" font-size=\"12.00\">And</text>\n",
       "<text text-anchor=\"middle\" x=\"220\" y=\"-77.4\" font-family=\"Times,serif\" font-size=\"12.00\">(◻ [0, inf]( x &lt;= c )) ∧ (◻ [0, inf]( w &lt;= d ))</text>\n",
       "</g>\n",
       "<!-- 139955138903568&#45;&gt;139952677303688 -->\n",
       "<g id=\"edge4\" class=\"edge\"><title>139955138903568&#45;&gt;139952677303688</title>\n",
       "<path fill=\"none\" stroke=\"black\" d=\"M202.937,-69.8849C193.924,-61.3722 182.696,-50.7684 172.744,-41.3696\"/>\n",
       "<polygon fill=\"black\" stroke=\"black\" points=\"175.114,-38.7935 165.441,-34.4717 170.308,-43.8826 175.114,-38.7935\"/>\n",
       "</g>\n",
       "<!-- 139952677203304 -->\n",
       "<g id=\"node6\" class=\"node\"><title>139952677203304</title>\n",
       "<polygon fill=\"orange\" stroke=\"black\" points=\"344.5,-174 237.5,-174 237.5,-140 344.5,-140 344.5,-174\"/>\n",
       "<text text-anchor=\"middle\" x=\"291\" y=\"-160.4\" font-family=\"Times,serif\" font-size=\"12.00\">Always</text>\n",
       "<text text-anchor=\"middle\" x=\"291\" y=\"-147.4\" font-family=\"Times,serif\" font-size=\"12.00\">◻ [0, inf]( x &lt;= c )</text>\n",
       "</g>\n",
       "<!-- 139952677203304&#45;&gt;139955138903568 -->\n",
       "<g id=\"edge5\" class=\"edge\"><title>139952677203304&#45;&gt;139955138903568</title>\n",
       "<path fill=\"none\" stroke=\"black\" d=\"M274.174,-139.885C265.373,-131.456 254.431,-120.976 244.69,-111.646\"/>\n",
       "<polygon fill=\"black\" stroke=\"black\" points=\"246.841,-108.861 237.198,-104.472 242,-113.916 246.841,-108.861\"/>\n",
       "</g>\n",
       "<!-- 139952677203136 -->\n",
       "<g id=\"node7\" class=\"node\"><title>139952677203136</title>\n",
       "<polygon fill=\"orange\" stroke=\"black\" points=\"322.5,-244 259.5,-244 259.5,-210 322.5,-210 322.5,-244\"/>\n",
       "<text text-anchor=\"middle\" x=\"291\" y=\"-230.4\" font-family=\"Times,serif\" font-size=\"12.00\">LessThan</text>\n",
       "<text text-anchor=\"middle\" x=\"291\" y=\"-217.4\" font-family=\"Times,serif\" font-size=\"12.00\">x &lt;= c</text>\n",
       "</g>\n",
       "<!-- 139952677203136&#45;&gt;139952677203304 -->\n",
       "<g id=\"edge6\" class=\"edge\"><title>139952677203136&#45;&gt;139952677203304</title>\n",
       "<path fill=\"none\" stroke=\"black\" d=\"M291,-209.885C291,-202.374 291,-193.234 291,-184.731\"/>\n",
       "<polygon fill=\"black\" stroke=\"black\" points=\"294.5,-184.472 291,-174.472 287.5,-184.472 294.5,-184.472\"/>\n",
       "</g>\n",
       "<!-- 139952677306320 -->\n",
       "<g id=\"node8\" class=\"node\"><title>139952677306320</title>\n",
       "<polygon fill=\"lightskyblue\" stroke=\"black\" points=\"294,-301 240,-301 240,-280 294,-280 294,-301\"/>\n",
       "<text text-anchor=\"middle\" x=\"267\" y=\"-287.4\" font-family=\"Times,serif\" font-size=\"12.00\">x</text>\n",
       "</g>\n",
       "<!-- 139952677306320&#45;&gt;139952677203136 -->\n",
       "<g id=\"edge7\" class=\"edge\"><title>139952677306320&#45;&gt;139952677203136</title>\n",
       "<path fill=\"none\" stroke=\"black\" d=\"M270.75,-279.891C273.461,-272.944 277.26,-263.208 280.837,-254.043\"/>\n",
       "<polygon fill=\"black\" stroke=\"black\" points=\"284.193,-255.069 284.568,-244.481 277.672,-252.524 284.193,-255.069\"/>\n",
       "</g>\n",
       "<!-- 139952677304248 -->\n",
       "<g id=\"node9\" class=\"node\"><title>139952677304248</title>\n",
       "<polygon fill=\"palegreen\" stroke=\"black\" points=\"366,-301 312,-301 312,-280 366,-280 366,-301\"/>\n",
       "<text text-anchor=\"middle\" x=\"339\" y=\"-287.4\" font-family=\"Times,serif\" font-size=\"12.00\">c</text>\n",
       "</g>\n",
       "<!-- 139952677304248&#45;&gt;139952677203136 -->\n",
       "<g id=\"edge8\" class=\"edge\"><title>139952677304248&#45;&gt;139952677203136</title>\n",
       "<path fill=\"none\" stroke=\"black\" d=\"M331.5,-279.891C325.79,-272.575 317.664,-262.164 310.189,-252.585\"/>\n",
       "<polygon fill=\"black\" stroke=\"black\" points=\"312.775,-250.211 303.863,-244.481 307.257,-254.518 312.775,-250.211\"/>\n",
       "</g>\n",
       "<!-- 139955138902784 -->\n",
       "<g id=\"node10\" class=\"node\"><title>139955138902784</title>\n",
       "<polygon fill=\"orange\" stroke=\"black\" points=\"219,-174 109,-174 109,-140 219,-140 219,-174\"/>\n",
       "<text text-anchor=\"middle\" x=\"164\" y=\"-160.4\" font-family=\"Times,serif\" font-size=\"12.00\">Always</text>\n",
       "<text text-anchor=\"middle\" x=\"164\" y=\"-147.4\" font-family=\"Times,serif\" font-size=\"12.00\">◻ [0, inf]( w &lt;= d )</text>\n",
       "</g>\n",
       "<!-- 139955138902784&#45;&gt;139955138903568 -->\n",
       "<g id=\"edge9\" class=\"edge\"><title>139955138902784&#45;&gt;139955138903568</title>\n",
       "<path fill=\"none\" stroke=\"black\" d=\"M177.271,-139.885C184.076,-131.623 192.502,-121.39 200.069,-112.202\"/>\n",
       "<polygon fill=\"black\" stroke=\"black\" points=\"202.78,-114.416 206.435,-104.472 197.376,-109.966 202.78,-114.416\"/>\n",
       "</g>\n",
       "<!-- 139955138902448&#45;&gt;139955138902784 -->\n",
       "<g id=\"edge10\" class=\"edge\"><title>139955138902448&#45;&gt;139955138902784</title>\n",
       "<path fill=\"none\" stroke=\"black\" d=\"M164,-209.885C164,-202.374 164,-193.234 164,-184.731\"/>\n",
       "<polygon fill=\"black\" stroke=\"black\" points=\"167.5,-184.472 164,-174.472 160.5,-184.472 167.5,-184.472\"/>\n",
       "</g>\n",
       "</g>\n",
       "</svg>\n"
      ],
      "text/plain": [
       "<graphviz.dot.Digraph at 0x7f49459dbb70>"
      ]
     },
     "execution_count": 9,
     "metadata": {},
     "output_type": "execute_result"
    }
   ],
   "source": [
    "formula2 = ϕ2 & formula\n",
    "print(formula2)\n",
    "viz.make_stl_graph(formula2)"
   ]
  },
  {
   "cell_type": "code",
   "execution_count": 10,
   "metadata": {},
   "outputs": [
    {
     "data": {
      "text/plain": [
       "tensor([[[-0.8992],\n",
       "         [-0.8980],\n",
       "         [-0.8951],\n",
       "         [-0.8892],\n",
       "         [-0.8778],\n",
       "         [-0.8578],\n",
       "         [-0.8262],\n",
       "         [-0.7807],\n",
       "         [-0.7221],\n",
       "         [-0.6549],\n",
       "         [-0.5885],\n",
       "         [-0.5344],\n",
       "         [-0.5040],\n",
       "         [-0.5040],\n",
       "         [-0.5344],\n",
       "         [-0.5885],\n",
       "         [-0.6549],\n",
       "         [-0.7218],\n",
       "         [-0.7801],\n",
       "         [-0.8246],\n",
       "         [-0.8542],\n",
       "         [-0.8699],\n",
       "         [-0.8737],\n",
       "         [-0.8670],\n",
       "         [-0.8506],\n",
       "         [-0.8257],\n",
       "         [-0.7943],\n",
       "         [-0.7604],\n",
       "         [-0.7295],\n",
       "         [-0.7078]]], grad_fn=<MinBackward0>)"
      ]
     },
     "execution_count": 10,
     "metadata": {},
     "output_type": "execute_result"
    }
   ],
   "source": [
    "# any of the inputs will work\n",
    "inputs = (w, (x_exp, w_exp))\n",
    "# inputs = (w_exp, (x_exp, w_exp))\n",
    "# inputs = (w, (x, w))\n",
    "\n",
    "pscale = 1     # \"pscale\" is the scale used for evaluting predicates\n",
    "scale = -1     # \"scale\" is the scale used in the maxish/minish function. <0 defaults to the true min/max\n",
    "formula2(inputs, pscale=pscale, scale=scale)"
   ]
  },
  {
   "cell_type": "markdown",
   "metadata": {},
   "source": [
    "# Testing grad functionality"
   ]
  },
  {
   "cell_type": "code",
   "execution_count": 11,
   "metadata": {},
   "outputs": [
    {
     "name": "stdout",
     "output_type": "stream",
     "text": [
      "◻ [0, inf]( x <= c )\n"
     ]
    },
    {
     "data": {
      "image/svg+xml": [
       "<?xml version=\"1.0\" encoding=\"UTF-8\" standalone=\"no\"?>\n",
       "<!DOCTYPE svg PUBLIC \"-//W3C//DTD SVG 1.1//EN\"\n",
       " \"http://www.w3.org/Graphics/SVG/1.1/DTD/svg11.dtd\">\n",
       "<!-- Generated by graphviz version 2.38.0 (20140413.2041)\n",
       " -->\n",
       "<!-- Title: %3 Pages: 1 -->\n",
       "<svg width=\"134pt\" height=\"169pt\"\n",
       " viewBox=\"0.00 0.00 134.00 169.00\" xmlns=\"http://www.w3.org/2000/svg\" xmlns:xlink=\"http://www.w3.org/1999/xlink\">\n",
       "<g id=\"graph0\" class=\"graph\" transform=\"scale(1 1) rotate(0) translate(4 165)\">\n",
       "<title>%3</title>\n",
       "<polygon fill=\"white\" stroke=\"none\" points=\"-4,4 -4,-165 130,-165 130,4 -4,4\"/>\n",
       "<!-- 139952677177664 -->\n",
       "<g id=\"node1\" class=\"node\"><title>139952677177664</title>\n",
       "<polygon fill=\"orange\" stroke=\"black\" points=\"116.5,-34 9.5,-34 9.5,-0 116.5,-0 116.5,-34\"/>\n",
       "<text text-anchor=\"middle\" x=\"63\" y=\"-20.4\" font-family=\"Times,serif\" font-size=\"12.00\">Always</text>\n",
       "<text text-anchor=\"middle\" x=\"63\" y=\"-7.4\" font-family=\"Times,serif\" font-size=\"12.00\">◻ [0, inf]( x &lt;= c )</text>\n",
       "</g>\n",
       "<!-- 139952677178952 -->\n",
       "<g id=\"node2\" class=\"node\"><title>139952677178952</title>\n",
       "<polygon fill=\"orange\" stroke=\"black\" points=\"94.5,-104 31.5,-104 31.5,-70 94.5,-70 94.5,-104\"/>\n",
       "<text text-anchor=\"middle\" x=\"63\" y=\"-90.4\" font-family=\"Times,serif\" font-size=\"12.00\">LessThan</text>\n",
       "<text text-anchor=\"middle\" x=\"63\" y=\"-77.4\" font-family=\"Times,serif\" font-size=\"12.00\">x &lt;= c</text>\n",
       "</g>\n",
       "<!-- 139952677178952&#45;&gt;139952677177664 -->\n",
       "<g id=\"edge1\" class=\"edge\"><title>139952677178952&#45;&gt;139952677177664</title>\n",
       "<path fill=\"none\" stroke=\"black\" d=\"M63,-69.8849C63,-62.3737 63,-53.2345 63,-44.7315\"/>\n",
       "<polygon fill=\"black\" stroke=\"black\" points=\"66.5001,-44.4717 63,-34.4717 59.5001,-44.4718 66.5001,-44.4717\"/>\n",
       "</g>\n",
       "<!-- 139952677176600 -->\n",
       "<g id=\"node3\" class=\"node\"><title>139952677176600</title>\n",
       "<polygon fill=\"lightskyblue\" stroke=\"black\" points=\"54,-161 0,-161 0,-140 54,-140 54,-161\"/>\n",
       "<text text-anchor=\"middle\" x=\"27\" y=\"-147.4\" font-family=\"Times,serif\" font-size=\"12.00\">x</text>\n",
       "</g>\n",
       "<!-- 139952677176600&#45;&gt;139952677178952 -->\n",
       "<g id=\"edge2\" class=\"edge\"><title>139952677176600&#45;&gt;139952677178952</title>\n",
       "<path fill=\"none\" stroke=\"black\" d=\"M32.625,-139.891C36.8211,-132.722 42.7562,-122.583 48.2682,-113.167\"/>\n",
       "<polygon fill=\"black\" stroke=\"black\" points=\"51.3214,-114.879 53.3527,-104.481 45.2803,-111.343 51.3214,-114.879\"/>\n",
       "</g>\n",
       "<!-- 139952677176824 -->\n",
       "<g id=\"node4\" class=\"node\"><title>139952677176824</title>\n",
       "<polygon fill=\"palegreen\" stroke=\"black\" points=\"126,-161 72,-161 72,-140 126,-140 126,-161\"/>\n",
       "<text text-anchor=\"middle\" x=\"99\" y=\"-147.4\" font-family=\"Times,serif\" font-size=\"12.00\">c</text>\n",
       "</g>\n",
       "<!-- 139952677176824&#45;&gt;139952677178952 -->\n",
       "<g id=\"edge3\" class=\"edge\"><title>139952677176824&#45;&gt;139952677178952</title>\n",
       "<path fill=\"none\" stroke=\"black\" d=\"M93.375,-139.891C89.1789,-132.722 83.2438,-122.583 77.7318,-113.167\"/>\n",
       "<polygon fill=\"black\" stroke=\"black\" points=\"80.7197,-111.343 72.6473,-104.481 74.6786,-114.879 80.7197,-111.343\"/>\n",
       "</g>\n",
       "</g>\n",
       "</svg>\n"
      ],
      "text/plain": [
       "<graphviz.dot.Digraph at 0x7f49459dba58>"
      ]
     },
     "execution_count": 11,
     "metadata": {},
     "output_type": "execute_result"
    }
   ],
   "source": [
    "x_exp = Expression('x', x)\n",
    "w_exp = Expression('w', w)\n",
    "c_exp = Expression('c', c)\n",
    "d_exp = Expression('d', d)\n",
    "lt = x_exp <= c_exp\n",
    "gt = w_exp <= d_exp\n",
    "formula = stlcg.Always(subformula=lt)\n",
    "inputs = x\n",
    "var_dict = {'c': c}\n",
    "print(formula)\n",
    "viz.make_stl_graph(formula)"
   ]
  },
  {
   "cell_type": "code",
   "execution_count": 12,
   "metadata": {},
   "outputs": [],
   "source": [
    "learning_rate = 0.05\n",
    "device = torch.device(\"cpu\")\n",
    "optimizer = torch.optim.Adam(var_dict.values(), lr=learning_rate)\n",
    "scale = 0.5\n"
   ]
  },
  {
   "cell_type": "code",
   "execution_count": 18,
   "metadata": {},
   "outputs": [
    {
     "name": "stdout",
     "output_type": "stream",
     "text": [
      "iteration: 0 -- loss: 36.224 ---- c:1.000 ---- scale:0.500 ---- true value:0.500\n",
      "iteration: 500 -- loss: 0.001 ---- c:2.488 ---- scale:1.500 ---- true value:1.988\n",
      "iteration: 1000 -- loss: 0.000 ---- c:1.569 ---- scale:2.500 ---- true value:1.069\n",
      "iteration: 1500 -- loss: 0.000 ---- c:1.190 ---- scale:3.500 ---- true value:0.690\n",
      "iteration: 2000 -- loss: 0.000 ---- c:0.988 ---- scale:4.500 ---- true value:0.488\n",
      "iteration: 2500 -- loss: 0.000 ---- c:0.866 ---- scale:5.500 ---- true value:0.366\n",
      "iteration: 3000 -- loss: 0.000 ---- c:0.787 ---- scale:6.500 ---- true value:0.287\n",
      "iteration: 3500 -- loss: 0.000 ---- c:0.732 ---- scale:7.500 ---- true value:0.232\n",
      "iteration: 4000 -- loss: 0.000 ---- c:0.692 ---- scale:8.500 ---- true value:0.192\n",
      "iteration: 4500 -- loss: 0.000 ---- c:0.663 ---- scale:9.500 ---- true value:0.163\n",
      "iteration: 5000 -- loss: 0.000 ---- c:0.640 ---- scale:10.500 ---- true value:0.140\n",
      "iteration: 5500 -- loss: 0.000 ---- c:0.623 ---- scale:11.500 ---- true value:0.123\n",
      "iteration: 6000 -- loss: 0.000 ---- c:0.608 ---- scale:12.500 ---- true value:0.108\n",
      "iteration: 6500 -- loss: 0.000 ---- c:0.597 ---- scale:13.500 ---- true value:0.097\n",
      "iteration: 7000 -- loss: 0.000 ---- c:0.587 ---- scale:14.500 ---- true value:0.087\n",
      "iteration: 7500 -- loss: 0.000 ---- c:0.579 ---- scale:15.500 ---- true value:0.079\n",
      "iteration: 8000 -- loss: 0.000 ---- c:0.572 ---- scale:16.500 ---- true value:0.072\n",
      "iteration: 8500 -- loss: 0.000 ---- c:0.566 ---- scale:17.500 ---- true value:0.066\n",
      "iteration: 9000 -- loss: 0.000 ---- c:0.561 ---- scale:18.500 ---- true value:0.061\n",
      "iteration: 9500 -- loss: 0.000 ---- c:0.556 ---- scale:19.500 ---- true value:0.056\n",
      "iteration: 10000 -- loss: 0.000 ---- c:0.552 ---- scale:20.500 ---- true value:0.052\n",
      "iteration: 10500 -- loss: 0.000 ---- c:0.548 ---- scale:21.500 ---- true value:0.048\n",
      "iteration: 11000 -- loss: 0.000 ---- c:0.545 ---- scale:22.500 ---- true value:0.045\n",
      "iteration: 11500 -- loss: 0.000 ---- c:0.542 ---- scale:23.500 ---- true value:0.042\n",
      "iteration: 12000 -- loss: 0.000 ---- c:0.539 ---- scale:24.500 ---- true value:0.039\n",
      "iteration: 12500 -- loss: 0.000 ---- c:0.537 ---- scale:25.500 ---- true value:0.037\n",
      "iteration: 13000 -- loss: 0.000 ---- c:0.535 ---- scale:26.500 ---- true value:0.035\n",
      "iteration: 13500 -- loss: 0.000 ---- c:0.533 ---- scale:27.500 ---- true value:0.033\n",
      "iteration: 14000 -- loss: 0.000 ---- c:0.531 ---- scale:28.500 ---- true value:0.031\n",
      "iteration: 14500 -- loss: 0.000 ---- c:0.529 ---- scale:29.500 ---- true value:0.029\n",
      "iteration: 15000 -- loss: 0.000 ---- c:0.528 ---- scale:30.500 ---- true value:0.028\n",
      "iteration: 15500 -- loss: 0.000 ---- c:0.526 ---- scale:31.500 ---- true value:0.026\n",
      "iteration: 16000 -- loss: 0.000 ---- c:0.525 ---- scale:32.500 ---- true value:0.025\n",
      "iteration: 16500 -- loss: 0.000 ---- c:0.524 ---- scale:33.500 ---- true value:0.024\n",
      "iteration: 17000 -- loss: 0.000 ---- c:0.523 ---- scale:34.500 ---- true value:0.023\n",
      "iteration: 17500 -- loss: 0.000 ---- c:0.522 ---- scale:35.500 ---- true value:0.022\n",
      "iteration: 18000 -- loss: 0.000 ---- c:0.521 ---- scale:36.500 ---- true value:0.021\n",
      "iteration: 18500 -- loss: 0.000 ---- c:0.520 ---- scale:37.500 ---- true value:0.020\n",
      "iteration: 19000 -- loss: 0.000 ---- c:0.519 ---- scale:38.500 ---- true value:0.019\n",
      "iteration: 19500 -- loss: 0.000 ---- c:0.518 ---- scale:39.500 ---- true value:0.018\n"
     ]
    }
   ],
   "source": [
    "\n",
    "for i in range(20000):\n",
    "    sc = scale + i/500\n",
    "    loss = formula.robustness(inputs, scale=sc).mean()**2 #+ 0.001*(c**2 + d**2)\n",
    "    if i % 500 == 0:\n",
    "        print_learning_progress(formula, inputs, var_dict, i, loss, sc)\n",
    "    loss.backward()\n",
    "    with torch.no_grad():\n",
    "        c -= learning_rate * c.grad\n",
    "        c.grad.zero_()\n",
    "#         d -= learning_rate * d.grad\n",
    "#         d.grad.zero_()"
   ]
  },
  {
   "cell_type": "code",
   "execution_count": 14,
   "metadata": {},
   "outputs": [
    {
     "data": {
      "text/plain": [
       "tensor(0.5172, requires_grad=True)"
      ]
     },
     "execution_count": 14,
     "metadata": {},
     "output_type": "execute_result"
    }
   ],
   "source": [
    "c"
   ]
  },
  {
   "cell_type": "code",
   "execution_count": null,
   "metadata": {},
   "outputs": [],
   "source": []
  }
 ],
 "metadata": {
  "@webio": {
   "lastCommId": null,
   "lastKernelId": null
  },
  "kernelspec": {
   "display_name": "Python 3.5 (stlcg)",
   "language": "python",
   "name": "stlcg-env"
  },
  "language_info": {
   "codemirror_mode": {
    "name": "ipython",
    "version": 3
   },
   "file_extension": ".py",
   "mimetype": "text/x-python",
   "name": "python",
   "nbconvert_exporter": "python",
   "pygments_lexer": "ipython3",
   "version": "3.5.2"
  }
 },
 "nbformat": 4,
 "nbformat_minor": 2
}
